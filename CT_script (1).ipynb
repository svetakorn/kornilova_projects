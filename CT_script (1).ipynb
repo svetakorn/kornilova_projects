{
 "cells": [
  {
   "cell_type": "code",
   "execution_count": 252,
   "metadata": {},
   "outputs": [],
   "source": [
    "import pandas as pd\n",
    "import chardet\n",
    "import json\n",
    "import requests\n",
    "\n",
    "filename = 'group_txt_test.csv'"
   ]
  },
  {
   "cell_type": "markdown",
   "metadata": {},
   "source": [
    "Получение списка всех групп из файла и всех items в них:"
   ]
  },
  {
   "cell_type": "code",
   "execution_count": 262,
   "metadata": {
    "scrolled": true
   },
   "outputs": [],
   "source": [
    "def get_groups_from_file(filename):\n",
    "    with open(filename, 'rb') as f:\n",
    "        result = chardet.detect(f.read())\n",
    "        groups_with_items = pd.read_csv(filename, sep=';', comment='#', encoding=result['encoding'])\n",
    "\n",
    "    grouped = groups_with_items.groupby(['_JK_name', 'External_ID_user']).agg(list).reset_index()\n",
    "    df_grouped = pd.DataFrame({\n",
    "        'id': grouped['External_ID_user'], \n",
    "        'description': grouped['_JK_name'].map(str) + ' ' + grouped['External_ID_user'].map(str),\n",
    "        'itemIds': grouped['External_id_item']\n",
    "    })\n",
    "    df_grouped.reset_index(drop=True, inplace=True)\n",
    "    return df_grouped"
   ]
  },
  {
   "cell_type": "markdown",
   "metadata": {},
   "source": [
    "Получение всех групп из API:"
   ]
  },
  {
   "cell_type": "code",
   "execution_count": 227,
   "metadata": {},
   "outputs": [],
   "source": [
    "def get_groups_from_api():\n",
    "    url = 'http://app00:8888/service-calltracking'+'/itemGroup/search'\n",
    "    header = {'content-type': 'application/json'}\n",
    "\n",
    "    payload = {'id': 21}\n",
    "    r = requests.post(url, headers = header) #,data=json.dumps(payload))\n",
    "    data = json.loads(r.text)\n",
    "   \n",
    "    df = pd.DataFrame(data['result']['items'])\n",
    "    df_groups_api = pd.DataFrame({\n",
    "        'groupId': df['groupId'],\n",
    "        'id': df['userId'], \n",
    "        'description': df['description'],\n",
    "        'itemIds': df['itemIds']})\n",
    "    df_groups_api.reset_index(drop=True, inplace=True)\n",
    "    return df_groups_api"
   ]
  },
  {
   "cell_type": "markdown",
   "metadata": {},
   "source": [
    "**Сравнение списков групп:**\n",
    "находим те группы, которые есть в файле, но отсутствуют в API"
   ]
  },
  {
   "cell_type": "code",
   "execution_count": 229,
   "metadata": {},
   "outputs": [],
   "source": [
    "def get_new_groups(filename):\n",
    "    file_groups = get_groups_from_file(filename)\n",
    "    api_groups = get_groups_from_api().drop('groupId', 1)\n",
    "\n",
    "    # ищем разные строки в файле и выгрузке из api\n",
    "    # это работает, если в датафреймах нет дубликатов (их у нас не должно быть)\n",
    "    diff = pd.concat([file_groups, api_groups]).drop_duplicates(['id', 'description'], keep=False)\n",
    "\n",
    "    # оставляем только те строки из diff, которые есть в файле\n",
    "    diff = diff[diff.isin(file_groups)].dropna()\n",
    "    diff.reset_index(drop=True, inplace=True)\n",
    "    return diff"
   ]
  },
  {
   "cell_type": "markdown",
   "metadata": {},
   "source": [
    "Добавление новых групп и их items в API:\n",
    "<br/>(на вход подается датафрейм с новыми группами, которых нет еще в api)"
   ]
  },
  {
   "cell_type": "code",
   "execution_count": 165,
   "metadata": {},
   "outputs": [],
   "source": [
    "def add_new_groups(df_new_groups):\n",
    "    url = 'http://app00:8888/service-calltracking'+'/itemGroup/createGroup'\n",
    "    for i in range(0, len(df_new_groups)):\n",
    "        data = {\n",
    "                'userId': int(df_new_groups['id'][i]),\n",
    "                'description': df_new_groups['description'][i],\n",
    "                'itemIds': df_new_groups['itemIds'][i]\n",
    "                    }\n",
    "        r = requests.post(url, data = data)"
   ]
  },
  {
   "cell_type": "markdown",
   "metadata": {},
   "source": [
    "Поиск отсутствующих items для существующих групп:"
   ]
  },
  {
   "cell_type": "code",
   "execution_count": 297,
   "metadata": {},
   "outputs": [],
   "source": [
    "def get_new_items_for_existing_groups():\n",
    "    df1 = get_groups_from_file(filename)\n",
    "    df2 = get_groups_from_api().drop('groupId', 1)\n",
    "\n",
    "    # в df актуальные items\n",
    "    df = pd.concat([df1,df2], sort=True)\n",
    "    df['itemIds_actual'] = df['itemIds']\n",
    "\n",
    "    # для удаления дубликатов сравниваем список itemIds в string формате\n",
    "    df['itemIds_actual_str'] = df['itemIds'].astype(str)\n",
    "    df.drop_duplicates(['id','description', 'itemIds_actual_str'], keep=False)\n",
    "    \n",
    "    # удаляем дубликаты новых групп\n",
    "    df = pd.concat([df, get_new_groups(filename)], sort=True).drop_duplicates(['id','description'], keep=False)\n",
    "    df.reset_index(drop=True, inplace=True)\n",
    "\n",
    "    # join таблиц по description, чтобы потом найти недостающие items для api\n",
    "    df.set_index('description').join(df2.set_index('description'), lsuffix='_actual', rsuffix='_api', on='description')\n",
    "\n",
    "    def diff(first, second):\n",
    "        second = set(second)\n",
    "        return [item for item in first if item not in second]\n",
    "\n",
    "    # в этом столбце значения items, которые нужно добавить в api\n",
    "    df['new_items'] = df.apply(lambda row: list(set(row.itemIds_actual) - set(row.itemIds)), axis=1)\n",
    "\n",
    "    df = df.drop(['itemIds', 'itemIds_actual', 'itemIds_actual_str'], axis=1)\n",
    "    \n",
    "    # если пустой массив новых items, то исключаем строку\n",
    "    #df = df[df['new_items'].map(lambda d: len(d)) > 0]\n",
    "    return df\n"
   ]
  },
  {
   "cell_type": "markdown",
   "metadata": {},
   "source": [
    "Получение groupId через userId и description:"
   ]
  },
  {
   "cell_type": "code",
   "execution_count": 300,
   "metadata": {},
   "outputs": [],
   "source": [
    "def get_group_id_for_new_items():\n",
    "    df_new_items = get_new_items_for_existing_groups()\n",
    "    api_groups = get_groups_from_api()\n",
    "\n",
    "    df_new_items_with_groupid = pd.merge(df_new_items, api_groups, on=['description', 'id'], how='left')\n",
    "    return df_new_items_with_groupid"
   ]
  },
  {
   "cell_type": "markdown",
   "metadata": {},
   "source": [
    "Добавление отсутствующих items для уже существующих групп в API:\n",
    "<br/>(на вход подается df из метода get_group_id_for_new_items() )"
   ]
  },
  {
   "cell_type": "code",
   "execution_count": 299,
   "metadata": {},
   "outputs": [],
   "source": [
    "def add_new_items_to_existing_groups(df_new_items_with_groupid):\n",
    "    url = 'http://app00:8888/service-calltracking'+'/itemGroup/addItemToGroup'\n",
    "    for i in range(0, len(df_new_items_with_groupid)):\n",
    "        data = {\n",
    "                'groupId': df_new_items_with_groupid['groupId'][i],\n",
    "                'itemIds': df_new_items_with_groupid['new_items'][i]\n",
    "                    }\n",
    "        r = requests.post(url, data = data)"
   ]
  }
 ],
 "metadata": {
  "kernelspec": {
   "display_name": "Python 3",
   "language": "python",
   "name": "python3"
  },
  "language_info": {
   "codemirror_mode": {
    "name": "ipython",
    "version": 3
   },
   "file_extension": ".py",
   "mimetype": "text/x-python",
   "name": "python",
   "nbconvert_exporter": "python",
   "pygments_lexer": "ipython3",
   "version": "3.7.3"
  }
 },
 "nbformat": 4,
 "nbformat_minor": 2
}
