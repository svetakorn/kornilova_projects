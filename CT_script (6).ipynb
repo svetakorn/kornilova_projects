{
 "cells": [
  {
   "cell_type": "code",
   "execution_count": 367,
   "metadata": {},
   "outputs": [],
   "source": [
    "import pandas as pd\n",
    "import chardet\n",
    "import json\n",
    "import requests\n",
    "import vertica_python"
   ]
  },
  {
   "cell_type": "markdown",
   "metadata": {},
   "source": [
    "Получение списка всех групп из Vertica - <b>запрос</b>:"
   ]
  },
  {
   "cell_type": "code",
   "execution_count": 368,
   "metadata": {},
   "outputs": [],
   "source": [
    "def get_groups_from_vertica():\n",
    "    conn_info = {'host': 'vertica-dwh-proxy',\n",
    "             'port': 5435,\n",
    "             'user': 'sakornilova',\n",
    "             'password': 'YaJZtNfel2P8TSH',\n",
    "             'database': 'DWH'\n",
    "            }\n",
    "\n",
    "    def executeScriptsFromFile(filename, connection_cursor):\n",
    "\n",
    "        fd = open(filename, 'r')\n",
    "        sqlFile = fd.read()\n",
    "        fd.close()\n",
    "\n",
    "        sqlCommands = sqlFile.split(';')\n",
    "\n",
    "        for command in sqlCommands:\n",
    "            try:\n",
    "                connection_cursor.execute(command)\n",
    "            except Exception:\n",
    "                print(Exception)\n",
    "\n",
    "    filename = 'sql_file.sql'\n",
    "\n",
    "    with vertica_python.connect(**conn_info) as connection:\n",
    "        cur = connection.cursor('dict')\n",
    "        executeScriptsFromFile(filename, cur)\n",
    "        df = pd.DataFrame(cur.fetchall())\n",
    "    \n",
    "    # region filter\n",
    "    df.loc[df['Region'].isin(['Москва', 'Санкт-Петербург', 'Московская область'])]\n",
    "    df1 = df[['User_id_ext', 'Item_id_ext', 'parent_pe_key']]\n",
    "    grouped = df1.groupby(['parent_pe_key', 'User_id_ext'])['Item_id_ext'].apply(list).reset_index()\n",
    "    df_grouped = pd.DataFrame({\n",
    "            'userId': grouped['User_id_ext'], \n",
    "            'description': grouped['parent_pe_key'].map(str) + ' ' + grouped['User_id_ext'].map(str),\n",
    "            'itemIds': grouped['Item_id_ext']\n",
    "        })\n",
    "    df_grouped.reset_index(drop=True, inplace=True)\n",
    "    return df_grouped"
   ]
  },
  {
   "cell_type": "markdown",
   "metadata": {},
   "source": [
    "Получение всех групп из API - <b>запрос</b>:"
   ]
  },
  {
   "cell_type": "code",
   "execution_count": 369,
   "metadata": {},
   "outputs": [],
   "source": [
    "def get_groups_from_api():\n",
    "    url = 'http://app00:8888/service-calltracking'+'/itemGroup/search'\n",
    "    header = {'content-type': 'application/json'}\n",
    "\n",
    "    payload = {'id': 21}\n",
    "    r = requests.post(url, headers = header) #,data=json.dumps(payload))\n",
    "    data = json.loads(r.text)\n",
    "   \n",
    "    df = pd.DataFrame(data['result']['items'])\n",
    "    df_groups_api = pd.DataFrame({\n",
    "        'groupId': df['groupId'],\n",
    "        'userId': df['userId'], \n",
    "        'description': df['description'],\n",
    "        'itemIds': df['itemIds'],\n",
    "        'status': df['status']})\n",
    "    df_groups_api.reset_index(drop=True, inplace=True)\n",
    "    return df_groups_api"
   ]
  },
  {
   "cell_type": "markdown",
   "metadata": {},
   "source": [
    "Старт группы:"
   ]
  },
  {
   "cell_type": "code",
   "execution_count": 370,
   "metadata": {},
   "outputs": [],
   "source": [
    "def start_group(groupId):\n",
    "    url = 'http://app00:8888/service-calltracking'+'/itemGroup/startGroup'\n",
    "    data = {\n",
    "            'id': int(groupId)\n",
    "            }\n",
    "    r = requests.post(url, data = data)"
   ]
  },
  {
   "cell_type": "markdown",
   "metadata": {},
   "source": [
    "Остановка группы:"
   ]
  },
  {
   "cell_type": "code",
   "execution_count": 371,
   "metadata": {},
   "outputs": [],
   "source": [
    "def stop_group(groupId):\n",
    "    url = 'http://app00:8888/service-calltracking'+'/itemGroup/stopGroup'\n",
    "    data = {\n",
    "            'id': int(groupId)\n",
    "            }\n",
    "    r = requests.post(url, data = data)"
   ]
  },
  {
   "cell_type": "markdown",
   "metadata": {},
   "source": [
    "Добавление + старт новых групп и их items в API:\n",
    "<br/>(на вход подается одна строка из датафрейма)"
   ]
  },
  {
   "cell_type": "code",
   "execution_count": 372,
   "metadata": {},
   "outputs": [],
   "source": [
    "def add_and_start_new_group(row):\n",
    "    \n",
    "    # add\n",
    "    url = 'http://app00:8888/service-calltracking'+'/itemGroup/createGroup'\n",
    "    data = {\n",
    "            'userId': int(row['userId']),\n",
    "            'description': row['description']\n",
    "            }\n",
    "    r = requests.post(url, data = data)\n",
    "    \n",
    "    #start\n",
    "    url2 = 'http://app00:8888/service-calltracking'+'/itemGroup/search'\n",
    "    header = {'content-type': 'application/json'}\n",
    "\n",
    "    payload = {'id': 21}\n",
    "    r2 = requests.post(url, headers = header) #,data=json.dumps(payload))\n",
    "    data2 = json.loads(r.text)\n",
    "   \n",
    "    df = pd.DataFrame(data['result']['items'])\n",
    "    df = df[(df['description'] == row['description']) & (df['userId'] == row['userId'])]\n",
    "    start_group(df['groupId'])"
   ]
  },
  {
   "cell_type": "markdown",
   "metadata": {},
   "source": [
    "После добавления новой группы получаем ее groupId и обновляем это значение в рабочем df:"
   ]
  },
  {
   "cell_type": "code",
   "execution_count": 373,
   "metadata": {},
   "outputs": [],
   "source": [
    "def get_groupId_by_description(description):\n",
    "    url = 'http://app00:8888/service-calltracking'+'/itemGroup/search'\n",
    "    header = {'content-type': 'application/json'}\n",
    "   \n",
    "    payload = {'id': 21}\n",
    "    r = requests.post(url, headers = header) #,data=json.dumps(payload))\n",
    "    data = json.loads(r.text)\n",
    "   \n",
    "    df = pd.DataFrame(data['result']['items'])\n",
    "    return df[df['description'] == description]['groupId']"
   ]
  },
  {
   "cell_type": "markdown",
   "metadata": {},
   "source": [
    "Добавление новых items в группу:"
   ]
  },
  {
   "cell_type": "code",
   "execution_count": 374,
   "metadata": {},
   "outputs": [],
   "source": [
    "def addItemToGroup(groupId, itemIds):\n",
    "    url = 'http://app00:8888/service-calltracking'+'/itemGroup/addItemToGroup'\n",
    "    data = {\n",
    "            'groupId': groupId,\n",
    "            'itemIds': itemIds\n",
    "                }\n",
    "    r = requests.post(url, data = data)"
   ]
  },
  {
   "cell_type": "markdown",
   "metadata": {},
   "source": [
    "Удаление items из группы:"
   ]
  },
  {
   "cell_type": "code",
   "execution_count": 375,
   "metadata": {},
   "outputs": [],
   "source": [
    "def removeItemFromGroup(groupId, itemIds):\n",
    "    url = 'http://app00:8888/service-calltracking'+'/itemGroup/removeItemFromGroup'\n",
    "    data = {\n",
    "            'groupId': groupId,\n",
    "            'itemIds': itemIds\n",
    "                }\n",
    "    r = requests.post(url, data = data)"
   ]
  },
  {
   "cell_type": "markdown",
   "metadata": {},
   "source": [
    "Получение данных через запросы + создание dataframe для дальнейших операций по актуализации групп:"
   ]
  },
  {
   "cell_type": "code",
   "execution_count": 380,
   "metadata": {},
   "outputs": [],
   "source": [
    "def get_initial_df():\n",
    "    api_groups = get_groups_from_api()  \n",
    "    vertica_groups = get_groups_from_vertica()\n",
    "    \n",
    "    # full-join таблиц по description\n",
    "    df = vertica_groups.join(\n",
    "            api_groups.set_index('description'), \n",
    "            on='description', \n",
    "            how='outer', \n",
    "            lsuffix='_vertica', \n",
    "            rsuffix='_api')\n",
    "    df.reset_index(drop=True, inplace=True)\n",
    "    \n",
    "    # по этому столбцу потом выбирается действие в методе actualize_items_in_groups\n",
    "    df['what_to_do'] = 'nothing' \n",
    "    \n",
    "    # здесь хранится int[] с items, которые нужно добавить в конкретную группу\n",
    "    df['items_to_add'] = None \n",
    "    # здесь хранится int[] с items, которые нужно удалить из конкретной группы\n",
    "    df['items_to_remove'] = None\n",
    "    return df"
   ]
  },
  {
   "cell_type": "markdown",
   "metadata": {},
   "source": [
    "Добавляем, запускаем или отсанавливаем группы (items здесь не изменяем):"
   ]
  },
  {
   "cell_type": "code",
   "execution_count": 377,
   "metadata": {},
   "outputs": [],
   "source": [
    "def actualize_groups(df):\n",
    "    for i, row in df.iterrows():\n",
    "        if pd.isna(row['status']):      \n",
    "            add_and_start_new_group(row)\n",
    "            df.at[i, 'what_to_do'] = 'add + start'           \n",
    "            df.at[i, 'items_to_add'] = row['itemIds_vertica']\n",
    "\n",
    "            # update groupId in df for a new group\n",
    "            df.at[i, 'groupId'] = get_groupId_by_description()\n",
    "\n",
    "        elif (int(row['status']) == 0) & (~pd.isna(row['userId_vertica'])):       \n",
    "            start_group(row['groupId'])\n",
    "            df.at[i, 'what_to_do'] = 'start + update'\n",
    "            \n",
    "            df.at[i, 'items_to_add'] = list(set(row['itemIds_vertica'])-set(row['itemIds_api']))\n",
    "            df.at[i, 'items_to_remove'] = list(set(row['itemIds_api'])-set(row['itemIds_vertica']))\n",
    "\n",
    "\n",
    "        elif (int(row['status']) == 1) & (pd.isna(row['userId_vertica'])):\n",
    "            stop_group(row['groupId'])      \n",
    "            df.at[i, 'what_to_do'] = 'stop'\n",
    "\n",
    "\n",
    "        elif (int(row['status']) == 1) & (~pd.isna(row['userId_vertica'])):\n",
    "            df.at[i, 'what_to_do'] = 'update'\n",
    "\n",
    "            df.at[i, 'items_to_add'] = list(set(row['itemIds_vertica'])-set(row['itemIds_api']))\n",
    "            df.at[i, 'items_to_remove'] = list(set(row['itemIds_api'])-set(row['itemIds_vertica']))\n",
    "\n",
    "        else:\n",
    "            pass"
   ]
  },
  {
   "cell_type": "markdown",
   "metadata": {},
   "source": [
    "Добавляем/удаляем items в группах:"
   ]
  },
  {
   "cell_type": "code",
   "execution_count": 378,
   "metadata": {},
   "outputs": [],
   "source": [
    "def actualize_items_in_groups(df):\n",
    "    for i, row in df.iterrows():\n",
    "        if row['what_to_do'] == 'add + start':   \n",
    "            addItemToGroup(row['groupId'], row['itemIds'])\n",
    "        elif row['what_to_do'] == 'start + update':\n",
    "            addItemToGroup(row['groupId'], row['itemIds'])\n",
    "            removeItemFromGroup(row['groupId'], row['itemIds']) \n",
    "        elif row['what_to_do'] == 'update':\n",
    "            addItemToGroup(row['groupId'], row['itemIds'])\n",
    "            removeItemFromGroup(row['groupId'], row['itemIds'])\n",
    "        else:\n",
    "            pass"
   ]
  },
  {
   "cell_type": "markdown",
   "metadata": {},
   "source": [
    "Сам скрипт:\n",
    "<br/><b>расскомментить для запуска</b>"
   ]
  },
  {
   "cell_type": "code",
   "execution_count": 379,
   "metadata": {},
   "outputs": [],
   "source": [
    "#df = get_initial_df()\n",
    "#actualize_groups(df)\n",
    "#actualize_items_in_groups(df)"
   ]
  }
 ],
 "metadata": {
  "kernelspec": {
   "display_name": "Python 3",
   "language": "python",
   "name": "python3"
  },
  "language_info": {
   "codemirror_mode": {
    "name": "ipython",
    "version": 3
   },
   "file_extension": ".py",
   "mimetype": "text/x-python",
   "name": "python",
   "nbconvert_exporter": "python",
   "pygments_lexer": "ipython3",
   "version": "3.7.3"
  }
 },
 "nbformat": 4,
 "nbformat_minor": 2
}
